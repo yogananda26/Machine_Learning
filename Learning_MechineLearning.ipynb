{
  "nbformat": 4,
  "nbformat_minor": 0,
  "metadata": {
    "colab": {
      "provenance": [],
      "authorship_tag": "ABX9TyNgAph2qHT0YO+iBuTisqFR",
      "include_colab_link": true
    },
    "kernelspec": {
      "name": "python3",
      "display_name": "Python 3"
    },
    "language_info": {
      "name": "python"
    }
  },
  "cells": [
    {
      "cell_type": "markdown",
      "metadata": {
        "id": "view-in-github",
        "colab_type": "text"
      },
      "source": [
        "<a href=\"https://colab.research.google.com/github/yogananda26/Mechine_Learning/blob/master/Learning_MechineLearning.ipynb\" target=\"_parent\"><img src=\"https://colab.research.google.com/assets/colab-badge.svg\" alt=\"Open In Colab\"/></a>"
      ]
    },
    {
      "cell_type": "code",
      "execution_count": 34,
      "metadata": {
        "colab": {
          "base_uri": "https://localhost:8080/"
        },
        "id": "R2jVYW0H5MjD",
        "outputId": "1f546ff2-b348-4d55-bdec-b449ac6f71cf"
      },
      "outputs": [
        {
          "output_type": "stream",
          "name": "stdout",
          "text": [
            "success\n"
          ]
        }
      ],
      "source": [
        "# this is for importing the thing\n",
        "import pandas as pd\n",
        "import numpy as np\n",
        "from sklearn.impute import SimpleImputer\n",
        "from sklearn.preprocessing import LabelEncoder\n",
        "print(\"success\")"
      ]
    },
    {
      "cell_type": "markdown",
      "source": [
        "1. Learing thing"
      ],
      "metadata": {
        "id": "uWMXlHMA7LHh"
      }
    },
    {
      "cell_type": "code",
      "source": [
        "#this is for inserting the csv file from web\n",
        "!wget \"https://raw.githubusercontent.com/yogananda26/Mechine_Learning/master/weatherAUS.csv/weatherAUS.csv\"\n",
        "df = pd.read_csv(\"weatherAUS.csv\")\n",
        "# this is for printing the data\n",
        "df.describe"
      ],
      "metadata": {
        "colab": {
          "base_uri": "https://localhost:8080/"
        },
        "id": "8c4wrF0I7Klj",
        "outputId": "2a1ebb2f-12c7-40c7-b574-f865864be716"
      },
      "execution_count": 35,
      "outputs": [
        {
          "output_type": "stream",
          "name": "stdout",
          "text": [
            "--2023-11-04 08:05:34--  https://raw.githubusercontent.com/yogananda26/Mechine_Learning/master/weatherAUS.csv/weatherAUS.csv\n",
            "Resolving raw.githubusercontent.com (raw.githubusercontent.com)... 185.199.108.133, 185.199.109.133, 185.199.110.133, ...\n",
            "Connecting to raw.githubusercontent.com (raw.githubusercontent.com)|185.199.108.133|:443... connected.\n",
            "HTTP request sent, awaiting response... 200 OK\n",
            "Length: 14094055 (13M) [text/plain]\n",
            "Saving to: ‘weatherAUS.csv.2’\n",
            "\n",
            "\rweatherAUS.csv.2      0%[                    ]       0  --.-KB/s               \rweatherAUS.csv.2    100%[===================>]  13.44M  --.-KB/s    in 0.07s   \n",
            "\n",
            "2023-11-04 08:05:34 (185 MB/s) - ‘weatherAUS.csv.2’ saved [14094055/14094055]\n",
            "\n"
          ]
        },
        {
          "output_type": "execute_result",
          "data": {
            "text/plain": [
              "<bound method NDFrame.describe of               Date Location  MinTemp  MaxTemp  Rainfall  Evaporation  \\\n",
              "0       2008-12-01   Albury     13.4     22.9       0.6          NaN   \n",
              "1       2008-12-02   Albury      7.4     25.1       0.0          NaN   \n",
              "2       2008-12-03   Albury     12.9     25.7       0.0          NaN   \n",
              "3       2008-12-04   Albury      9.2     28.0       0.0          NaN   \n",
              "4       2008-12-05   Albury     17.5     32.3       1.0          NaN   \n",
              "...            ...      ...      ...      ...       ...          ...   \n",
              "145455  2017-06-21    Uluru      2.8     23.4       0.0          NaN   \n",
              "145456  2017-06-22    Uluru      3.6     25.3       0.0          NaN   \n",
              "145457  2017-06-23    Uluru      5.4     26.9       0.0          NaN   \n",
              "145458  2017-06-24    Uluru      7.8     27.0       0.0          NaN   \n",
              "145459  2017-06-25    Uluru     14.9      NaN       0.0          NaN   \n",
              "\n",
              "        Sunshine WindGustDir  WindGustSpeed WindDir9am  ... Humidity9am  \\\n",
              "0            NaN           W           44.0          W  ...        71.0   \n",
              "1            NaN         WNW           44.0        NNW  ...        44.0   \n",
              "2            NaN         WSW           46.0          W  ...        38.0   \n",
              "3            NaN          NE           24.0         SE  ...        45.0   \n",
              "4            NaN           W           41.0        ENE  ...        82.0   \n",
              "...          ...         ...            ...        ...  ...         ...   \n",
              "145455       NaN           E           31.0         SE  ...        51.0   \n",
              "145456       NaN         NNW           22.0         SE  ...        56.0   \n",
              "145457       NaN           N           37.0         SE  ...        53.0   \n",
              "145458       NaN          SE           28.0        SSE  ...        51.0   \n",
              "145459       NaN         NaN            NaN        ESE  ...        62.0   \n",
              "\n",
              "        Humidity3pm  Pressure9am  Pressure3pm  Cloud9am  Cloud3pm  Temp9am  \\\n",
              "0              22.0       1007.7       1007.1       8.0       NaN     16.9   \n",
              "1              25.0       1010.6       1007.8       NaN       NaN     17.2   \n",
              "2              30.0       1007.6       1008.7       NaN       2.0     21.0   \n",
              "3              16.0       1017.6       1012.8       NaN       NaN     18.1   \n",
              "4              33.0       1010.8       1006.0       7.0       8.0     17.8   \n",
              "...             ...          ...          ...       ...       ...      ...   \n",
              "145455         24.0       1024.6       1020.3       NaN       NaN     10.1   \n",
              "145456         21.0       1023.5       1019.1       NaN       NaN     10.9   \n",
              "145457         24.0       1021.0       1016.8       NaN       NaN     12.5   \n",
              "145458         24.0       1019.4       1016.5       3.0       2.0     15.1   \n",
              "145459         36.0       1020.2       1017.9       8.0       8.0     15.0   \n",
              "\n",
              "        Temp3pm  RainToday  RainTomorrow  \n",
              "0          21.8         No            No  \n",
              "1          24.3         No            No  \n",
              "2          23.2         No            No  \n",
              "3          26.5         No            No  \n",
              "4          29.7         No            No  \n",
              "...         ...        ...           ...  \n",
              "145455     22.4         No            No  \n",
              "145456     24.5         No            No  \n",
              "145457     26.1         No            No  \n",
              "145458     26.0         No            No  \n",
              "145459     20.9         No           NaN  \n",
              "\n",
              "[145460 rows x 23 columns]>"
            ]
          },
          "metadata": {},
          "execution_count": 35
        }
      ]
    },
    {
      "cell_type": "code",
      "source": [
        "# this is for starting the mechine learning\n",
        "X = df.iloc[: , [1,2,3,4,7,8,9,10,11,12,13,15,16,17,18,19,20,21]].values\n",
        "Y = df.iloc[: , -1].values\n",
        "Y = Y.reshape(-1, 1)\n",
        "\n",
        "print(X)\n",
        "# this is for output\n",
        "print(\"this is for output\")\n",
        "print(Y)"
      ],
      "metadata": {
        "colab": {
          "base_uri": "https://localhost:8080/"
        },
        "id": "YFASo_xzVTnp",
        "outputId": "870790f8-685c-4c60-fa6c-8e1f4ef960ef"
      },
      "execution_count": 36,
      "outputs": [
        {
          "output_type": "stream",
          "name": "stdout",
          "text": [
            "[['Albury' 13.4 22.9 ... 16.9 21.8 'No']\n",
            " ['Albury' 7.4 25.1 ... 17.2 24.3 'No']\n",
            " ['Albury' 12.9 25.7 ... 21.0 23.2 'No']\n",
            " ...\n",
            " ['Uluru' 5.4 26.9 ... 12.5 26.1 'No']\n",
            " ['Uluru' 7.8 27.0 ... 15.1 26.0 'No']\n",
            " ['Uluru' 14.9 nan ... 15.0 20.9 'No']]\n",
            "this is for output\n",
            "[['No']\n",
            " ['No']\n",
            " ['No']\n",
            " ...\n",
            " ['No']\n",
            " ['No']\n",
            " [nan]]\n"
          ]
        }
      ]
    },
    {
      "cell_type": "markdown",
      "source": [
        "This is for dealing with invalid data set"
      ],
      "metadata": {
        "id": "zD2BwWbwQSzq"
      }
    },
    {
      "cell_type": "code",
      "source": [
        "\n",
        "# this is for filling the dataset wether the dataset had nan value\n",
        "imp_most_frequent = SimpleImputer(missing_values=np.nan, strategy=\"most_frequent\")\n",
        "X = imp_most_frequent.fit_transform(X)\n",
        "Y = imp_most_frequent.fit_transform(Y)\n",
        "print(Y)"
      ],
      "metadata": {
        "colab": {
          "base_uri": "https://localhost:8080/"
        },
        "id": "zIKwZXv3QOho",
        "outputId": "59fce263-1398-47d2-b12e-5e02c7adc416"
      },
      "execution_count": 37,
      "outputs": [
        {
          "output_type": "stream",
          "name": "stdout",
          "text": [
            "[['No']\n",
            " ['No']\n",
            " ['No']\n",
            " ...\n",
            " ['No']\n",
            " ['No']\n",
            " ['No']]\n"
          ]
        }
      ]
    },
    {
      "cell_type": "markdown",
      "source": [
        "this is for translate the text into number for simple processing\n"
      ],
      "metadata": {
        "id": "tovt62bQ6btr"
      }
    },
    {
      "cell_type": "code",
      "source": [
        "# this is for changing the coloumn\n",
        "fit0 = LabelEncoder()\n",
        "X[: , 0] = fit0.fit_transform(X[:,0])\n",
        "fit = LabelEncoder()\n",
        "X[: , 4] = fit.fit_transform(X[:,4])\n",
        "fit1 = LabelEncoder()\n",
        "X[: ,6] = fit.fit_transform(X[: , 6])\n",
        "fit2 = LabelEncoder()\n",
        "X[: , 7] = fit2.fit_transform(X[:,7])\n",
        "fit3 = LabelEncoder()\n",
        "X[: , -1] = fit3.fit_transform(X[:,-1])\n",
        "\n",
        "# this is for changing the graph Y\n",
        "fit_y = LabelEncoder()\n",
        "Y = fit_y.fit_transform(Y)"
      ],
      "metadata": {
        "colab": {
          "base_uri": "https://localhost:8080/"
        },
        "id": "Eq_SDaDvV9fP",
        "outputId": "dc69907c-7e2a-41b6-e5f8-a4e647c27816"
      },
      "execution_count": 38,
      "outputs": [
        {
          "output_type": "stream",
          "name": "stderr",
          "text": [
            "/usr/local/lib/python3.10/dist-packages/sklearn/preprocessing/_label.py:116: DataConversionWarning: A column-vector y was passed when a 1d array was expected. Please change the shape of y to (n_samples, ), for example using ravel().\n",
            "  y = column_or_1d(y, warn=True)\n"
          ]
        }
      ]
    },
    {
      "cell_type": "markdown",
      "source": [
        "Featuring Scalling"
      ],
      "metadata": {
        "id": "tgIiliOH_ncz"
      }
    },
    {
      "cell_type": "code",
      "source": [
        "from sklearn.preprocessing import StandardScaler\n",
        "sc = StandardScaler()\n",
        "X = sc.fit_transform(X)\n",
        "print(X)"
      ],
      "metadata": {
        "colab": {
          "base_uri": "https://localhost:8080/"
        },
        "id": "DTlmlymPenYf",
        "outputId": "20475652-fc4c-4f29-bc31-ff3906bde451"
      },
      "execution_count": 39,
      "outputs": [
        {
          "output_type": "stream",
          "name": "stdout",
          "text": [
            "[[-1.53166617  0.19132753 -0.04135977 ... -0.01407077  0.02310362\n",
            "  -0.52979545]\n",
            " [-1.53166617 -0.75105231  0.26874452 ...  0.03244663  0.387799\n",
            "  -0.52979545]\n",
            " [-1.53166617  0.11279588  0.35331842 ...  0.62166712  0.22733303\n",
            "  -0.52979545]\n",
            " ...\n",
            " [ 1.20928479 -1.06517892  0.52246622 ... -0.69632607  0.65037966\n",
            "  -0.52979545]\n",
            " [ 1.20928479 -0.68822699  0.53656187 ... -0.29317521  0.63579185\n",
            "  -0.52979545]\n",
            " [ 1.20928479  0.42692249 -0.45013361 ... -0.30868102 -0.10818671\n",
            "  -0.52979545]]\n"
          ]
        }
      ]
    },
    {
      "cell_type": "markdown",
      "source": [
        "Splitting Training And Testing Model (more training you have better result youll get)"
      ],
      "metadata": {
        "id": "1m2QQLeeADb3"
      }
    },
    {
      "cell_type": "code",
      "source": [
        "# this is for spliting the data into testing and training test\n",
        "from sklearn.model_selection import train_test_split\n",
        "X_train, X_test, Y_train, Y_test = train_test_split(X, Y, test_size=0.9, random_state=0)\n",
        "\n",
        "print(X_train)\n",
        "print(\"=====================\")\n",
        "print(X_test)\n",
        "print(\"=====================\")\n",
        "print(Y_train)\n",
        "print(\"=====================\")\n",
        "print(Y_test)\n"
      ],
      "metadata": {
        "colab": {
          "base_uri": "https://localhost:8080/"
        },
        "id": "oOHm7YAe_-6O",
        "outputId": "f3113a07-93a8-4d4c-ab16-ac6b1fe4d92b"
      },
      "execution_count": 40,
      "outputs": [
        {
          "output_type": "stream",
          "name": "stdout",
          "text": [
            "[[-0.40717346 -0.49975102 -0.90119441 ... -0.69632607 -0.85216526\n",
            "  -0.52979545]\n",
            " [-1.32082378  0.81958076 -0.37965537 ...  0.31155107 -0.56040897\n",
            "  -0.52979545]\n",
            " [-1.53166617 -0.12279908 -0.14002932 ... -0.32418682 -0.06442326\n",
            "  -0.52979545]\n",
            " ...\n",
            " [ 1.0687232   0.75675544  0.93124006 ...  1.10234698  1.07342629\n",
            "  -0.52979545]\n",
            " [ 0.57675765 -0.04426743 -0.16822062 ...  0.01694083 -0.28324049\n",
            "   1.88752093]\n",
            " [ 1.63096955 -0.0285611  -0.91529006 ... -0.35519842 -0.76463838\n",
            "  -0.52979545]]\n",
            "=====================\n",
            "[[-1.46138537  1.52636564  2.28442243 ...  1.98617771  2.00704644\n",
            "   1.88752093]\n",
            " [ 1.27956559  1.30647701  2.01660509 ...  1.59853265  2.05080989\n",
            "  -0.52979545]\n",
            " [ 0.85788082 -1.11229791 -0.84481181 ... -1.06846532 -0.80840182\n",
            "  -0.52979545]\n",
            " ...\n",
            " [-1.67222775 -0.13850541 -0.49242056 ... -0.30868102 -0.41453082\n",
            "  -0.52979545]\n",
            " [-0.47745426 -1.28506755 -0.30917712 ... -1.50262778 -0.18112578\n",
            "  -0.52979545]\n",
            " [ 1.27956559  1.07088205  1.41049215 ...  0.80773674  1.35059477\n",
            "  -0.52979545]]\n",
            "=====================\n",
            "[0 0 0 ... 0 0 0]\n",
            "=====================\n",
            "[1 1 0 ... 1 0 0]\n"
          ]
        }
      ]
    },
    {
      "cell_type": "markdown",
      "source": [
        "This for MECHINE LEARNING KICK IN"
      ],
      "metadata": {
        "id": "h8QNpKn2GTdk"
      }
    },
    {
      "cell_type": "code",
      "source": [
        "# this is for mechine learning\n",
        "# we use randomforest classfier for predicting thing on discrete way\n",
        "from sklearn.ensemble import RandomForestClassifier\n",
        "# we can changging the parameter for better result\n",
        "classifier = RandomForestClassifier(n_estimators=150, random_state=0)\n",
        "classifier.fit(X_train, Y_train)\n"
      ],
      "metadata": {
        "colab": {
          "base_uri": "https://localhost:8080/",
          "height": 74
        },
        "id": "Ta43HYB3GS37",
        "outputId": "993a4fbf-f7ce-4eac-a72e-65f50af1b982"
      },
      "execution_count": 41,
      "outputs": [
        {
          "output_type": "execute_result",
          "data": {
            "text/plain": [
              "RandomForestClassifier(n_estimators=150, random_state=0)"
            ],
            "text/html": [
              "<style>#sk-container-id-3 {color: black;background-color: white;}#sk-container-id-3 pre{padding: 0;}#sk-container-id-3 div.sk-toggleable {background-color: white;}#sk-container-id-3 label.sk-toggleable__label {cursor: pointer;display: block;width: 100%;margin-bottom: 0;padding: 0.3em;box-sizing: border-box;text-align: center;}#sk-container-id-3 label.sk-toggleable__label-arrow:before {content: \"▸\";float: left;margin-right: 0.25em;color: #696969;}#sk-container-id-3 label.sk-toggleable__label-arrow:hover:before {color: black;}#sk-container-id-3 div.sk-estimator:hover label.sk-toggleable__label-arrow:before {color: black;}#sk-container-id-3 div.sk-toggleable__content {max-height: 0;max-width: 0;overflow: hidden;text-align: left;background-color: #f0f8ff;}#sk-container-id-3 div.sk-toggleable__content pre {margin: 0.2em;color: black;border-radius: 0.25em;background-color: #f0f8ff;}#sk-container-id-3 input.sk-toggleable__control:checked~div.sk-toggleable__content {max-height: 200px;max-width: 100%;overflow: auto;}#sk-container-id-3 input.sk-toggleable__control:checked~label.sk-toggleable__label-arrow:before {content: \"▾\";}#sk-container-id-3 div.sk-estimator input.sk-toggleable__control:checked~label.sk-toggleable__label {background-color: #d4ebff;}#sk-container-id-3 div.sk-label input.sk-toggleable__control:checked~label.sk-toggleable__label {background-color: #d4ebff;}#sk-container-id-3 input.sk-hidden--visually {border: 0;clip: rect(1px 1px 1px 1px);clip: rect(1px, 1px, 1px, 1px);height: 1px;margin: -1px;overflow: hidden;padding: 0;position: absolute;width: 1px;}#sk-container-id-3 div.sk-estimator {font-family: monospace;background-color: #f0f8ff;border: 1px dotted black;border-radius: 0.25em;box-sizing: border-box;margin-bottom: 0.5em;}#sk-container-id-3 div.sk-estimator:hover {background-color: #d4ebff;}#sk-container-id-3 div.sk-parallel-item::after {content: \"\";width: 100%;border-bottom: 1px solid gray;flex-grow: 1;}#sk-container-id-3 div.sk-label:hover label.sk-toggleable__label {background-color: #d4ebff;}#sk-container-id-3 div.sk-serial::before {content: \"\";position: absolute;border-left: 1px solid gray;box-sizing: border-box;top: 0;bottom: 0;left: 50%;z-index: 0;}#sk-container-id-3 div.sk-serial {display: flex;flex-direction: column;align-items: center;background-color: white;padding-right: 0.2em;padding-left: 0.2em;position: relative;}#sk-container-id-3 div.sk-item {position: relative;z-index: 1;}#sk-container-id-3 div.sk-parallel {display: flex;align-items: stretch;justify-content: center;background-color: white;position: relative;}#sk-container-id-3 div.sk-item::before, #sk-container-id-3 div.sk-parallel-item::before {content: \"\";position: absolute;border-left: 1px solid gray;box-sizing: border-box;top: 0;bottom: 0;left: 50%;z-index: -1;}#sk-container-id-3 div.sk-parallel-item {display: flex;flex-direction: column;z-index: 1;position: relative;background-color: white;}#sk-container-id-3 div.sk-parallel-item:first-child::after {align-self: flex-end;width: 50%;}#sk-container-id-3 div.sk-parallel-item:last-child::after {align-self: flex-start;width: 50%;}#sk-container-id-3 div.sk-parallel-item:only-child::after {width: 0;}#sk-container-id-3 div.sk-dashed-wrapped {border: 1px dashed gray;margin: 0 0.4em 0.5em 0.4em;box-sizing: border-box;padding-bottom: 0.4em;background-color: white;}#sk-container-id-3 div.sk-label label {font-family: monospace;font-weight: bold;display: inline-block;line-height: 1.2em;}#sk-container-id-3 div.sk-label-container {text-align: center;}#sk-container-id-3 div.sk-container {/* jupyter's `normalize.less` sets `[hidden] { display: none; }` but bootstrap.min.css set `[hidden] { display: none !important; }` so we also need the `!important` here to be able to override the default hidden behavior on the sphinx rendered scikit-learn.org. See: https://github.com/scikit-learn/scikit-learn/issues/21755 */display: inline-block !important;position: relative;}#sk-container-id-3 div.sk-text-repr-fallback {display: none;}</style><div id=\"sk-container-id-3\" class=\"sk-top-container\"><div class=\"sk-text-repr-fallback\"><pre>RandomForestClassifier(n_estimators=150, random_state=0)</pre><b>In a Jupyter environment, please rerun this cell to show the HTML representation or trust the notebook. <br />On GitHub, the HTML representation is unable to render, please try loading this page with nbviewer.org.</b></div><div class=\"sk-container\" hidden><div class=\"sk-item\"><div class=\"sk-estimator sk-toggleable\"><input class=\"sk-toggleable__control sk-hidden--visually\" id=\"sk-estimator-id-3\" type=\"checkbox\" checked><label for=\"sk-estimator-id-3\" class=\"sk-toggleable__label sk-toggleable__label-arrow\">RandomForestClassifier</label><div class=\"sk-toggleable__content\"><pre>RandomForestClassifier(n_estimators=150, random_state=0)</pre></div></div></div></div></div>"
            ]
          },
          "metadata": {},
          "execution_count": 41
        }
      ]
    },
    {
      "cell_type": "markdown",
      "source": [
        "This is for Checking the data that we given is Good or Bad"
      ],
      "metadata": {
        "id": "7FCobhu8IxdM"
      }
    },
    {
      "cell_type": "code",
      "source": [
        "# this is how much the tree was perfomed\n",
        "classifier.score(X_train, Y_train)"
      ],
      "metadata": {
        "colab": {
          "base_uri": "https://localhost:8080/"
        },
        "id": "BB38Icu8Ix47",
        "outputId": "576f9b32-2c3b-478b-aed2-779c0de73421"
      },
      "execution_count": 42,
      "outputs": [
        {
          "output_type": "execute_result",
          "data": {
            "text/plain": [
              "1.0"
            ]
          },
          "metadata": {},
          "execution_count": 42
        }
      ]
    },
    {
      "cell_type": "code",
      "source": [
        "Y_predict = classifier.predict(X_test)"
      ],
      "metadata": {
        "id": "YCHl5vC_LT4L"
      },
      "execution_count": 43,
      "outputs": []
    },
    {
      "cell_type": "code",
      "source": [
        "print(Y_predict)\n",
        "print(Y_test)"
      ],
      "metadata": {
        "colab": {
          "base_uri": "https://localhost:8080/"
        },
        "id": "z_-3VulWLsrf",
        "outputId": "b79c81d1-c7dd-4e3f-89e8-652a5821106b"
      },
      "execution_count": 44,
      "outputs": [
        {
          "output_type": "stream",
          "name": "stdout",
          "text": [
            "[0 0 0 ... 0 0 0]\n",
            "[1 1 0 ... 1 0 0]\n"
          ]
        }
      ]
    },
    {
      "cell_type": "code",
      "source": [
        "Y_predict = fit_y.inverse_transform(Y_predict)\n",
        "Y_test = fit_y.inverse_transform(Y_test)\n",
        "# Y_predict = Y_predict.reshape(-1, 1)\n"
      ],
      "metadata": {
        "id": "3no3BTBFL1t8"
      },
      "execution_count": 45,
      "outputs": []
    },
    {
      "cell_type": "code",
      "source": [
        "Y_predict = Y_predict.reshape(-1,1)\n",
        "Y_test = Y_test.reshape(-1,1)"
      ],
      "metadata": {
        "id": "JP_pYYn8NEy-"
      },
      "execution_count": 46,
      "outputs": []
    },
    {
      "cell_type": "code",
      "source": [
        "# this is for displaying the result\n",
        "func = np.concatenate((Y_test, Y_predict), axis=1)"
      ],
      "metadata": {
        "id": "wbJjflmoNTnU"
      },
      "execution_count": 47,
      "outputs": []
    },
    {
      "cell_type": "code",
      "source": [
        "df = pd.DataFrame(data=func, columns=[\"Tommorow Raining\", \"Prediction of Raining\"])\n",
        "print(df)"
      ],
      "metadata": {
        "colab": {
          "base_uri": "https://localhost:8080/"
        },
        "id": "kcHO-L07Si0G",
        "outputId": "fa624009-5e6b-43ad-b288-628c26926a95"
      },
      "execution_count": 48,
      "outputs": [
        {
          "output_type": "stream",
          "name": "stdout",
          "text": [
            "       Tommorow Raining Prediction of Raining\n",
            "0                   Yes                    No\n",
            "1                   Yes                    No\n",
            "2                    No                    No\n",
            "3                    No                    No\n",
            "4                    No                    No\n",
            "...                 ...                   ...\n",
            "130909               No                    No\n",
            "130910              Yes                    No\n",
            "130911              Yes                    No\n",
            "130912               No                    No\n",
            "130913               No                    No\n",
            "\n",
            "[130914 rows x 2 columns]\n"
          ]
        }
      ]
    },
    {
      "cell_type": "markdown",
      "source": [
        "This For calculate how much Accureate our Model To predicting the Given Value"
      ],
      "metadata": {
        "id": "9H6MGREWWUkj"
      }
    },
    {
      "cell_type": "code",
      "source": [
        "from sklearn.metrics import accuracy_score\n",
        "accuracy_score(Y_test, Y_predict)"
      ],
      "metadata": {
        "id": "FzoBW9sLWUDV",
        "outputId": "392c8912-1383-4aec-9651-a93c63c251b8",
        "colab": {
          "base_uri": "https://localhost:8080/"
        }
      },
      "execution_count": 49,
      "outputs": [
        {
          "output_type": "execute_result",
          "data": {
            "text/plain": [
              "0.8318743602670455"
            ]
          },
          "metadata": {},
          "execution_count": 49
        }
      ]
    }
  ]
}